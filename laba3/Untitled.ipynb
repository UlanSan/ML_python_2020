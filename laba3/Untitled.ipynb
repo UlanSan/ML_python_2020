{
 "cells": [
  {
   "cell_type": "code",
   "execution_count": 1,
   "metadata": {},
   "outputs": [],
   "source": [
    "import requests # Загрузка новостей с сайта.\n",
    "from bs4 import BeautifulSoup # Превращалка html в текст.\n",
    "from datetime import date\n",
    "from datetime import timedelta"
   ]
  },
  {
   "cell_type": "code",
   "execution_count": 2,
   "metadata": {},
   "outputs": [],
   "source": [
    "def get_news_text(url):\n",
    "    page_text = requests.get(url).text\n",
    "    bs=BeautifulSoup(page_text, \"html5lib\")\n",
    "    title = None\n",
    "    # Заголовок\n",
    "    title = bs.h1.text\n",
    "    # Сам текст\n",
    "    whole_text = bs.find_all('div', 'story__text')\n",
    "    text = None\n",
    "    for i in range(len(whole_text)):\n",
    "        text = \" \".join([p.text for p in whole_text[i].find_all(\"p\")])\n",
    "        if not text:\n",
    "            text = \" \".join(whole_text[i].text.split('\\n\\n'))\n",
    "    return {'title': title, \n",
    "            'text': text}"
   ]
  },
  {
   "cell_type": "code",
   "execution_count": 3,
   "metadata": {},
   "outputs": [],
   "source": [
    "def get_day_news_links(day):\n",
    "    links = []\n",
    "    \n",
    "    # Формируем url страницы со списком новостей\n",
    "    url_root = 'http://tramuk.ru/'\n",
    "    url = url_root + '/date/' + str(day.year) + '/' + str(day.month) + '/' + str(day.day) + '.html'\n",
    "    \n",
    "    # получаем текст страницы\n",
    "    page_text = requests.get(url).text\n",
    "    bs=BeautifulSoup(page_text, \"html5lib\")\n",
    "    \n",
    "    # ветви дерева с новостями\n",
    "    whole_text = bs.find_all('div', 'story-list__item')\n",
    "    for i in range(len(whole_text)):\n",
    "        # ссылки на новости начинаются с тега h2\n",
    "        item_title = whole_text[i].find_all(\"h2\")\n",
    "        for j in range(len(item_title)):\n",
    "            # Вытаскиваем ссылки в тегах a\n",
    "            link = item_title[0].find('a').get('href')\n",
    "            links.append(url_root + link)\n",
    "    return links"
   ]
  },
  {
   "cell_type": "code",
   "execution_count": 4,
   "metadata": {},
   "outputs": [],
   "source": [
    "# Сохраняем статьи в файл.\n",
    "def saveArticle(filename, art, date):\n",
    "    newsfile=open(filename, 'a', encoding='utf-8')\n",
    "    title = str(art['title']).encode().decode('utf-8')\n",
    "    text = str(art['text']).encode().decode('utf-8')\n",
    "    text = text.strip('\\n')\n",
    "    text = text.strip()\n",
    "    newsfile.write('\\n=====\\n'+title)\n",
    "    newsfile.write('\\n' + str(date.year) + '/' + str(date.month) + '/' + str(date.day))\n",
    "    newsfile.write('\\n-----\\n'+text)\n",
    "    newsfile.close()"
   ]
  },
  {
   "cell_type": "code",
   "execution_count": 5,
   "metadata": {},
   "outputs": [
    {
     "name": "stdout",
     "output_type": "stream",
     "text": [
      "Success!!!\n",
      "\n",
      "Wall time: 1.97 s\n"
     ]
    }
   ],
   "source": [
    "%%time\n",
    "filename = 'text2.txt'\n",
    "newsfile=open(filename, 'w', encoding='utf-8')\n",
    "newsfile.close()\n",
    "#start_date = date(2010, 1, 1)\n",
    "start_date = date(2020, 8, 1)\n",
    "day = start_date\n",
    "one_day_delta = timedelta(days=1)\n",
    "# stop_date = date.today() + one_day_delta\n",
    "stop_date = date(2020, 8, 4) + one_day_delta\n",
    "whole_days = stop_date - day\n",
    "while day != stop_date:\n",
    "    links_list = []\n",
    "    links_list = get_day_news_links(day)\n",
    "    for link in links_list:\n",
    "        try:\n",
    "            res = get_news_text(link)\n",
    "            saveArticle(filename, res, day)\n",
    "        except Exception as err:\n",
    "            print(err)\n",
    "            print('Date: ' + str(day))\n",
    "            print('step: ' + str((day - start_date).days))\n",
    "    print(str((day - start_date).days)+\"/\"+str((whole_days-one_day_delta).days), end='\\r')\n",
    "    \n",
    "    day += one_day_delta\n",
    "\n",
    "print(str((day - start_date).days)+\"/\"+str((whole_days-one_day_delta).days), end='\\r')\n",
    "print('Success!!!\\n')"
   ]
  },
  {
   "cell_type": "code",
   "execution_count": null,
   "metadata": {},
   "outputs": [],
   "source": []
  }
 ],
 "metadata": {
  "kernelspec": {
   "display_name": "Python 3",
   "language": "python",
   "name": "python3"
  },
  "language_info": {
   "codemirror_mode": {
    "name": "ipython",
    "version": 3
   },
   "file_extension": ".py",
   "mimetype": "text/x-python",
   "name": "python",
   "nbconvert_exporter": "python",
   "pygments_lexer": "ipython3",
   "version": "3.8.1"
  }
 },
 "nbformat": 4,
 "nbformat_minor": 4
}
